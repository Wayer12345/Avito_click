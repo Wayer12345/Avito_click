{
 "cells": [
  {
   "cell_type": "code",
   "execution_count": 5,
   "id": "1843cbea",
   "metadata": {},
   "outputs": [],
   "source": [
    "import pandas as pd\n",
    "import numpy as np\n",
    "import scipy\n",
    "\n",
    "import sklearn\n",
    "from sklearn.model_selection import train_test_split\n",
    "from sklearn.metrics import roc_auc_score\n",
    "\n",
    "import matplotlib.pyplot as plt\n",
    "import seaborn as sns\n",
    "\n",
    "from catboost import CatBoostClassifier\n",
    "import optuna\n",
    "\n",
    "import pickle\n",
    "\n",
    "from tqdm import tqdm\n",
    "\n",
    "import warnings\n",
    "warnings.filterwarnings(\"ignore\")\n",
    "\n",
    "import gc"
   ]
  },
  {
   "cell_type": "code",
   "execution_count": 6,
   "id": "8d5a9af3",
   "metadata": {},
   "outputs": [
    {
     "data": {
      "text/plain": [
       "['searchid', 'adid', 'locationid']"
      ]
     },
     "execution_count": 6,
     "metadata": {},
     "output_type": "execute_result"
    }
   ],
   "source": [
    "with open(\"./inter_files/addon_features.pickle\", 'rb') as f:\n",
    "    addon_features = pickle.load(f)\n",
    "    \n",
    "addon_features"
   ]
  },
  {
   "cell_type": "code",
   "execution_count": 7,
   "id": "8a0476f4",
   "metadata": {},
   "outputs": [
    {
     "name": "stdout",
     "output_type": "stream",
     "text": [
      "(4847835, 12)\n"
     ]
    },
    {
     "data": {
      "text/html": [
       "<div>\n",
       "<style scoped>\n",
       "    .dataframe tbody tr th:only-of-type {\n",
       "        vertical-align: middle;\n",
       "    }\n",
       "\n",
       "    .dataframe tbody tr th {\n",
       "        vertical-align: top;\n",
       "    }\n",
       "\n",
       "    .dataframe thead th {\n",
       "        text-align: right;\n",
       "    }\n",
       "</style>\n",
       "<table border=\"1\" class=\"dataframe\">\n",
       "  <thead>\n",
       "    <tr style=\"text-align: right;\">\n",
       "      <th></th>\n",
       "      <th>histctr</th>\n",
       "      <th>iscontext</th>\n",
       "      <th>title</th>\n",
       "      <th>params</th>\n",
       "      <th>price</th>\n",
       "      <th>position</th>\n",
       "      <th>parentcategoryid</th>\n",
       "      <th>categoryid</th>\n",
       "      <th>subcategoryid</th>\n",
       "      <th>target</th>\n",
       "      <th>level</th>\n",
       "      <th>objecttype</th>\n",
       "    </tr>\n",
       "  </thead>\n",
       "  <tbody>\n",
       "    <tr>\n",
       "      <th>0</th>\n",
       "      <td>0.005468</td>\n",
       "      <td>1</td>\n",
       "      <td>Комбинезон COCOON</td>\n",
       "      <td>Комбинезоны и боди</td>\n",
       "      <td>711.0</td>\n",
       "      <td>1</td>\n",
       "      <td>3.0</td>\n",
       "      <td>60.0</td>\n",
       "      <td>43.0</td>\n",
       "      <td>0</td>\n",
       "      <td>3.0</td>\n",
       "      <td>3</td>\n",
       "    </tr>\n",
       "    <tr>\n",
       "      <th>1</th>\n",
       "      <td>0.000010</td>\n",
       "      <td>1</td>\n",
       "      <td>Кеды</td>\n",
       "      <td>Обувь</td>\n",
       "      <td>1699.0</td>\n",
       "      <td>7</td>\n",
       "      <td>3.0</td>\n",
       "      <td>60.0</td>\n",
       "      <td>43.0</td>\n",
       "      <td>0</td>\n",
       "      <td>3.0</td>\n",
       "      <td>3</td>\n",
       "    </tr>\n",
       "    <tr>\n",
       "      <th>2</th>\n",
       "      <td>0.005610</td>\n",
       "      <td>1</td>\n",
       "      <td>Виброрейка MASALTA MCD-4</td>\n",
       "      <td>Инструменты</td>\n",
       "      <td>54503.0</td>\n",
       "      <td>1</td>\n",
       "      <td>9.0</td>\n",
       "      <td>50.0</td>\n",
       "      <td>23.0</td>\n",
       "      <td>0</td>\n",
       "      <td>3.0</td>\n",
       "      <td>3</td>\n",
       "    </tr>\n",
       "    <tr>\n",
       "      <th>3</th>\n",
       "      <td>0.001788</td>\n",
       "      <td>1</td>\n",
       "      <td>Куртка утепленная Savage с доставкой</td>\n",
       "      <td>Верхняя одежда</td>\n",
       "      <td>3998.0</td>\n",
       "      <td>1</td>\n",
       "      <td>3.0</td>\n",
       "      <td>22.0</td>\n",
       "      <td>47.0</td>\n",
       "      <td>0</td>\n",
       "      <td>3.0</td>\n",
       "      <td>3</td>\n",
       "    </tr>\n",
       "    <tr>\n",
       "      <th>4</th>\n",
       "      <td>0.001435</td>\n",
       "      <td>1</td>\n",
       "      <td>Внешний аккумулятор для iPhone 2600 mAh</td>\n",
       "      <td>iPhone</td>\n",
       "      <td>399.0</td>\n",
       "      <td>7</td>\n",
       "      <td>12.0</td>\n",
       "      <td>41.0</td>\n",
       "      <td>42.0</td>\n",
       "      <td>0</td>\n",
       "      <td>3.0</td>\n",
       "      <td>3</td>\n",
       "    </tr>\n",
       "  </tbody>\n",
       "</table>\n",
       "</div>"
      ],
      "text/plain": [
       "    histctr  iscontext                                    title  \\\n",
       "0  0.005468          1                        Комбинезон COCOON   \n",
       "1  0.000010          1                                     Кеды   \n",
       "2  0.005610          1                 Виброрейка MASALTA MCD-4   \n",
       "3  0.001788          1     Куртка утепленная Savage с доставкой   \n",
       "4  0.001435          1  Внешний аккумулятор для iPhone 2600 mAh   \n",
       "\n",
       "               params    price  position  parentcategoryid  categoryid  \\\n",
       "0  Комбинезоны и боди    711.0         1               3.0        60.0   \n",
       "1               Обувь   1699.0         7               3.0        60.0   \n",
       "2         Инструменты  54503.0         1               9.0        50.0   \n",
       "3      Верхняя одежда   3998.0         1               3.0        22.0   \n",
       "4              iPhone    399.0         7              12.0        41.0   \n",
       "\n",
       "   subcategoryid  target  level  objecttype  \n",
       "0           43.0       0    3.0           3  \n",
       "1           43.0       0    3.0           3  \n",
       "2           23.0       0    3.0           3  \n",
       "3           47.0       0    3.0           3  \n",
       "4           42.0       0    3.0           3  "
      ]
     },
     "metadata": {},
     "output_type": "display_data"
    },
    {
     "name": "stdout",
     "output_type": "stream",
     "text": [
      "CPU times: total: 3.06 s\n",
      "Wall time: 1.41 s\n"
     ]
    }
   ],
   "source": [
    "%%time\n",
    "sample = pd.read_parquet('./data/preprocessed_data.parquet')\n",
    "sample = sample[list(set(sample.columns) - set(addon_features))]\n",
    "print(sample.shape)\n",
    "display(sample.head())"
   ]
  },
  {
   "cell_type": "code",
   "execution_count": 8,
   "id": "113d10ee",
   "metadata": {},
   "outputs": [
    {
     "name": "stdout",
     "output_type": "stream",
     "text": [
      "<class 'pandas.core.frame.DataFrame'>\n",
      "RangeIndex: 4847835 entries, 0 to 4847834\n",
      "Data columns (total 12 columns):\n",
      " #   Column            Dtype  \n",
      "---  ------            -----  \n",
      " 0   histctr           float64\n",
      " 1   iscontext         int64  \n",
      " 2   title             object \n",
      " 3   params            object \n",
      " 4   price             float64\n",
      " 5   position          int64  \n",
      " 6   parentcategoryid  float64\n",
      " 7   categoryid        float64\n",
      " 8   subcategoryid     float64\n",
      " 9   target            int32  \n",
      " 10  level             float64\n",
      " 11  objecttype        int64  \n",
      "dtypes: float64(6), int32(1), int64(3), object(2)\n",
      "memory usage: 425.3+ MB\n"
     ]
    }
   ],
   "source": [
    "sample.info()"
   ]
  },
  {
   "cell_type": "code",
   "execution_count": 9,
   "id": "e62ec331",
   "metadata": {},
   "outputs": [
    {
     "name": "stdout",
     "output_type": "stream",
     "text": [
      "target\n",
      "0    0.99395\n",
      "1    0.00605\n",
      "Name: count, dtype: float64\n"
     ]
    },
    {
     "data": {
      "image/png": "[encoded data removed]",
      "text/plain": [
       "<Figure size 1000x600 with 1 Axes>"
      ]
     },
     "metadata": {},
     "output_type": "display_data"
    }
   ],
   "source": [
    "print((sample['target'].value_counts() / len(sample)))\n",
    "plt.figure(figsize = (10, 6))\n",
    "\n",
    "(sample['target'].value_counts() / len(sample)).plot(kind='bar')\n",
    "plt.ylabel('target', fontsize = 12)\n",
    "plt.xlabel('part', fontsize = 12)\n",
    "plt.title('class balances')\n",
    "plt.ylim(0, 1)\n",
    "plt.grid(True)\n",
    "\n",
    "plt.show()"
   ]
  },
  {
   "cell_type": "code",
   "execution_count": 10,
   "id": "7a7e0d52",
   "metadata": {},
   "outputs": [
    {
     "data": {
      "image/png": "[encoded data removed]",
      "text/plain": [
       "<Figure size 2000x1200 with 1 Axes>"
      ]
     },
     "metadata": {},
     "output_type": "display_data"
    }
   ],
   "source": [
    "nan_columns_names = []\n",
    "nan_columns_total = []\n",
    "\n",
    "for column in sample.columns:\n",
    "    if (sample[column].isnull().sum() > 0):\n",
    "        nan_columns_names.append(column)\n",
    "        nan_columns_total.append(sample[column].isnull().sum())\n",
    "\n",
    "sns.set_style('darkgrid')\n",
    "plt.figure(figsize = (20, 12))\n",
    "sns.barplot(x = nan_columns_names, y = nan_columns_total)\n",
    "plt.xticks(rotation = 90, fontsize = 16)\n",
    "plt.yticks(fontsize = 16)\n",
    "plt.xlabel('Columns', fontsize = 24)\n",
    "plt.ylabel('Nans', fontsize = 24)\n",
    "plt.title('Количество пропусков в признаках', fontsize = 28, fontweight = 'bold')\n",
    "plt.show()"
   ]
  },
  {
   "cell_type": "code",
   "execution_count": 11,
   "id": "f4a8b46b",
   "metadata": {},
   "outputs": [],
   "source": [
    "sample[['params', 'title']] = sample[['params', 'title']].fillna('None')\n",
    "sample[['price', 'parentcategoryid', 'categoryid', 'subcategoryid', 'level']] = sample[['price', 'parentcategoryid', 'categoryid', 'subcategoryid', 'level']].fillna(0)"
   ]
  },
  {
   "cell_type": "code",
   "execution_count": 12,
   "id": "eeffabaa",
   "metadata": {},
   "outputs": [],
   "source": [
    "X = sample[list(set(sample.columns) - set(addon_features + ['target']))].copy()\n",
    "Y = sample['target'].copy()"
   ]
  },
  {
   "cell_type": "code",
   "execution_count": 13,
   "id": "ddc518f0",
   "metadata": {
    "scrolled": true
   },
   "outputs": [
    {
     "name": "stdout",
     "output_type": "stream",
     "text": [
      "all:  4847835\n",
      "train:  2908701\n",
      "valid:  969567\n",
      "test:  969567\n"
     ]
    }
   ],
   "source": [
    "X_train, X_test, y_train, y_test = train_test_split(X, Y, train_size = 0.6, test_size = 0.4, random_state = 111)\n",
    "X_valid, X_test, y_valid, y_test = train_test_split(X_test, y_test, train_size = 0.5, test_size = 0.5, random_state = 111)\n",
    "\n",
    "print('all: ', len(sample))\n",
    "print('train: ', len(X_train))\n",
    "print('valid: ', len(X_valid))\n",
    "print('test: ', len(X_test))"
   ]
  },
  {
   "cell_type": "markdown",
   "id": "d079aa90",
   "metadata": {},
   "source": [
    "# Обучение модели"
   ]
  },
  {
   "cell_type": "code",
   "execution_count": 14,
   "id": "2ccbc301",
   "metadata": {},
   "outputs": [],
   "source": [
    "def metric_num_features_dependence(clf, X_train, y_train, X_valid, y_valid, X_test, y_test, df_features_imp, to_csv = True):\n",
    "    feat_select = pd.DataFrame()\n",
    "    \n",
    "    for num_feat in tqdm(range(1, len(df_features_imp) + 1)):\n",
    "        cur_features = df_features_imp['feature_name'].values[:num_feat]\n",
    "        \n",
    "        clf.fit(X_train, y_train, eval_set = (X_valid, y_valid), verbose=False)\n",
    "        \n",
    "        r = pd.Series()\n",
    "        r.name = num_feat\n",
    "        r['Train'] = 2*roc_auc_score(y_train, clf.predict_proba(X_train)[:, 1])-1\n",
    "        r['Valid'] = 2*roc_auc_score(y_valid, clf.predict_proba(X_valid)[:, 1])-1\n",
    "        r['Test'] = 2*roc_auc_score(y_test, clf.predict_proba(X_test)[:, 1])-1\n",
    "        \n",
    "        feat_select = pd.concat([feat_select, pd.DataFrame([r])], ignore_index=True)\n",
    "    \n",
    "    if to_csv:\n",
    "        feat_select.to_csv('./inter_files/num_features_metrics.csv', index=False)\n",
    "    \n",
    "    plt.figure(figsize=(10, 5))\n",
    "    \n",
    "    plt.plot(feat_select['Train'], label='train')\n",
    "    plt.plot(feat_select['Valid'], label='valid')\n",
    "    plt.plot(feat_select['Test'], label='test')\n",
    "    plt.xlabel('Num features')\n",
    "    plt.ylabel('Gini')\n",
    "    plt.grid()\n",
    "    plt.legend()\n",
    "    \n",
    "    plt.show()\n",
    "    \n",
    "    return feat_select"
   ]
  },
  {
   "cell_type": "code",
   "execution_count": 15,
   "id": "fef02cd0",
   "metadata": {},
   "outputs": [],
   "source": [
    "cat_features = ['title', 'params']"
   ]
  },
  {
   "cell_type": "code",
   "execution_count": 16,
   "id": "40704fba",
   "metadata": {},
   "outputs": [
    {
     "name": "stderr",
     "output_type": "stream",
     "text": [
      "Default metric period is 5 because AUC is/are not implemented for GPU\n"
     ]
    },
    {
     "name": "stdout",
     "output_type": "stream",
     "text": [
      "0:\ttest: 0.6548553\tbest: 0.6548553 (0)\ttotal: 86.3ms\tremaining: 14m 23s\n",
      "100:\ttest: 0.7242112\tbest: 0.7242112 (100)\ttotal: 8.48s\tremaining: 13m 51s\n",
      "200:\ttest: 0.7275071\tbest: 0.7275159 (199)\ttotal: 17.1s\tremaining: 13m 52s\n",
      "300:\ttest: 0.7292252\tbest: 0.7292252 (300)\ttotal: 25.8s\tremaining: 13m 51s\n",
      "400:\ttest: 0.7301832\tbest: 0.7302192 (398)\ttotal: 35s\tremaining: 13m 56s\n",
      "500:\ttest: 0.7306615\tbest: 0.7306615 (500)\ttotal: 43.9s\tremaining: 13m 52s\n",
      "600:\ttest: 0.7310988\tbest: 0.7311048 (598)\ttotal: 52.6s\tremaining: 13m 43s\n",
      "700:\ttest: 0.7312346\tbest: 0.7313253 (656)\ttotal: 1m\tremaining: 13m 25s\n",
      "800:\ttest: 0.7314157\tbest: 0.7314450 (786)\ttotal: 1m 9s\tremaining: 13m 14s\n",
      "900:\ttest: 0.7316027\tbest: 0.7316450 (889)\ttotal: 1m 18s\tremaining: 13m 11s\n",
      "1000:\ttest: 0.7317577\tbest: 0.7317794 (981)\ttotal: 1m 27s\tremaining: 13m 4s\n",
      "1100:\ttest: 0.7317666\tbest: 0.7318294 (1044)\ttotal: 1m 36s\tremaining: 12m 59s\n",
      "1200:\ttest: 0.7318915\tbest: 0.7318958 (1198)\ttotal: 1m 44s\tremaining: 12m 44s\n",
      "1300:\ttest: 0.7318915\tbest: 0.7319780 (1235)\ttotal: 1m 52s\tremaining: 12m 31s\n",
      "1400:\ttest: 0.7319528\tbest: 0.7319780 (1235)\ttotal: 2m\tremaining: 12m 19s\n",
      "1500:\ttest: 0.7320481\tbest: 0.7321073 (1458)\ttotal: 2m 8s\tremaining: 12m 8s\n",
      "1600:\ttest: 0.7319078\tbest: 0.7321073 (1458)\ttotal: 2m 16s\tremaining: 11m 58s\n",
      "bestTest = 0.7321072817\n",
      "bestIteration = 1458\n",
      "Shrink model to first 1459 iterations.\n"
     ]
    },
    {
     "data": {
      "text/plain": [
       "<catboost.core.CatBoostClassifier at 0x1b9079c46d0>"
      ]
     },
     "execution_count": 16,
     "metadata": {},
     "output_type": "execute_result"
    }
   ],
   "source": [
    "clf_base = CatBoostClassifier(task_type='GPU',\n",
    "                              cat_features = cat_features,\n",
    "                              learning_rate=0.1,\n",
    "                              depth = 4,\n",
    "                              gpu_ram_part=0.9,\n",
    "                              random_seed=98723,\n",
    "                              loss_function='Logloss',\n",
    "                              iterations=10_000,\n",
    "                              use_best_model=True,\n",
    "                              eval_metric='AUC',\n",
    "                              verbose=False,\n",
    "                              thread_count=-1,\n",
    "                              min_data_in_leaf=200,\n",
    "                              early_stopping_rounds=200)\n",
    "\n",
    "clf_base.fit(X_train, y_train, eval_set = (X_valid, y_valid), verbose=100)"
   ]
  },
  {
   "cell_type": "code",
   "execution_count": 17,
   "id": "84e9b98e",
   "metadata": {},
   "outputs": [
    {
     "name": "stdout",
     "output_type": "stream",
     "text": [
      "gini_train base_model_all_features:  0.500094493309013\n",
      "gini_valid base_model_all_features:  0.46421468575500535\n",
      "gini_test base_model_all_features:  0.46195147704774353\n",
      "\n",
      "Относительное изменение Gini base_model_all_features:\n",
      "7.627161820736258\n"
     ]
    }
   ],
   "source": [
    "gini_train_base_all_features = 2*roc_auc_score(y_train, clf_base.predict_proba(X_train)[:, 1])-1\n",
    "gini_valid_base_all_features = 2*roc_auc_score(y_valid, clf_base.predict_proba(X_valid)[:, 1])-1\n",
    "gini_test_base_all_features = 2*roc_auc_score(y_test, clf_base.predict_proba(X_test)[:, 1])-1\n",
    "\n",
    "print('gini_train base_model_all_features: ', gini_train_base_all_features)\n",
    "print('gini_valid base_model_all_features: ', gini_valid_base_all_features)\n",
    "print('gini_test base_model_all_features: ', gini_test_base_all_features)\n",
    "\n",
    "print()\n",
    "\n",
    "print(\"Относительное изменение Gini base_model_all_features:\")\n",
    "print((gini_train_base_all_features - gini_test_base_all_features)*100 / gini_train_base_all_features)"
   ]
  },
  {
   "cell_type": "code",
   "execution_count": 18,
   "id": "91745c22",
   "metadata": {},
   "outputs": [
    {
     "data": {
      "image/png": "[encoded data removed]",
      "text/plain": [
       "<Figure size 700x700 with 1 Axes>"
      ]
     },
     "metadata": {},
     "output_type": "display_data"
    }
   ],
   "source": [
    "df_base_imp = pd.DataFrame({'feature_name': clf_base.feature_names_, 'feature_imp': clf_base.feature_importances_})\n",
    "df_base_imp = df_base_imp.sort_values('feature_imp', ascending=False)\n",
    "\n",
    "plt.figure(figsize=(7, 7))\n",
    "sns.barplot(x='feature_imp', y='feature_name', data=df_base_imp[:30])\n",
    "plt.tight_layout()\n",
    "plt.show()"
   ]
  },
  {
   "cell_type": "code",
   "execution_count": 19,
   "id": "afbf7dcf",
   "metadata": {},
   "outputs": [
    {
     "name": "stderr",
     "output_type": "stream",
     "text": [
      "  0%|          | 0/11 [00:00<?, ?it/s]Default metric period is 5 because AUC is/are not implemented for GPU\n",
      "  9%|▉         | 1/11 [02:45<27:35, 165.56s/it]Default metric period is 5 because AUC is/are not implemented for GPU\n",
      " 18%|█▊        | 2/11 [05:35<25:12, 168.04s/it]Default metric period is 5 because AUC is/are not implemented for GPU\n",
      " 27%|██▋       | 3/11 [08:32<22:57, 172.23s/it]Default metric period is 5 because AUC is/are not implemented for GPU\n",
      " 36%|███▋      | 4/11 [10:51<18:33, 159.02s/it]Default metric period is 5 because AUC is/are not implemented for GPU\n",
      " 45%|████▌     | 5/11 [13:28<15:50, 158.42s/it]Default metric period is 5 because AUC is/are not implemented for GPU\n",
      " 55%|█████▍    | 6/11 [16:21<13:36, 163.22s/it]Default metric period is 5 because AUC is/are not implemented for GPU\n",
      " 64%|██████▎   | 7/11 [19:18<11:11, 167.96s/it]Default metric period is 5 because AUC is/are not implemented for GPU\n",
      " 73%|███████▎  | 8/11 [22:05<08:22, 167.53s/it]Default metric period is 5 because AUC is/are not implemented for GPU\n",
      " 82%|████████▏ | 9/11 [25:00<05:39, 169.87s/it]Default metric period is 5 because AUC is/are not implemented for GPU\n",
      " 91%|█████████ | 10/11 [27:55<02:51, 171.31s/it]Default metric period is 5 because AUC is/are not implemented for GPU\n",
      "100%|██████████| 11/11 [31:01<00:00, 169.25s/it]\n"
     ]
    },
    {
     "data": {
      "image/png": "[encoded data removed]",
      "text/plain": [
       "<Figure size 1000x500 with 1 Axes>"
      ]
     },
     "metadata": {},
     "output_type": "display_data"
    },
    {
     "data": {
      "text/html": [
       "<div>\n",
       "<style scoped>\n",
       "    .dataframe tbody tr th:only-of-type {\n",
       "        vertical-align: middle;\n",
       "    }\n",
       "\n",
       "    .dataframe tbody tr th {\n",
       "        vertical-align: top;\n",
       "    }\n",
       "\n",
       "    .dataframe thead th {\n",
       "        text-align: right;\n",
       "    }\n",
       "</style>\n",
       "<table border=\"1\" class=\"dataframe\">\n",
       "  <thead>\n",
       "    <tr style=\"text-align: right;\">\n",
       "      <th></th>\n",
       "      <th>Train</th>\n",
       "      <th>Valid</th>\n",
       "      <th>Test</th>\n",
       "    </tr>\n",
       "  </thead>\n",
       "  <tbody>\n",
       "    <tr>\n",
       "      <th>0</th>\n",
       "      <td>0.501885</td>\n",
       "      <td>0.464676</td>\n",
       "      <td>0.461259</td>\n",
       "    </tr>\n",
       "    <tr>\n",
       "      <th>1</th>\n",
       "      <td>0.500508</td>\n",
       "      <td>0.463661</td>\n",
       "      <td>0.461806</td>\n",
       "    </tr>\n",
       "    <tr>\n",
       "      <th>2</th>\n",
       "      <td>0.501259</td>\n",
       "      <td>0.464240</td>\n",
       "      <td>0.462544</td>\n",
       "    </tr>\n",
       "    <tr>\n",
       "      <th>3</th>\n",
       "      <td>0.498506</td>\n",
       "      <td>0.463907</td>\n",
       "      <td>0.461865</td>\n",
       "    </tr>\n",
       "    <tr>\n",
       "      <th>4</th>\n",
       "      <td>0.501677</td>\n",
       "      <td>0.464327</td>\n",
       "      <td>0.461892</td>\n",
       "    </tr>\n",
       "    <tr>\n",
       "      <th>5</th>\n",
       "      <td>0.500067</td>\n",
       "      <td>0.464300</td>\n",
       "      <td>0.462051</td>\n",
       "    </tr>\n",
       "    <tr>\n",
       "      <th>6</th>\n",
       "      <td>0.501183</td>\n",
       "      <td>0.464929</td>\n",
       "      <td>0.462157</td>\n",
       "    </tr>\n",
       "    <tr>\n",
       "      <th>7</th>\n",
       "      <td>0.501315</td>\n",
       "      <td>0.463953</td>\n",
       "      <td>0.461571</td>\n",
       "    </tr>\n",
       "    <tr>\n",
       "      <th>8</th>\n",
       "      <td>0.501801</td>\n",
       "      <td>0.464371</td>\n",
       "      <td>0.461758</td>\n",
       "    </tr>\n",
       "    <tr>\n",
       "      <th>9</th>\n",
       "      <td>0.500225</td>\n",
       "      <td>0.463880</td>\n",
       "      <td>0.461786</td>\n",
       "    </tr>\n",
       "    <tr>\n",
       "      <th>10</th>\n",
       "      <td>0.501490</td>\n",
       "      <td>0.464275</td>\n",
       "      <td>0.462229</td>\n",
       "    </tr>\n",
       "  </tbody>\n",
       "</table>\n",
       "</div>"
      ],
      "text/plain": [
       "       Train     Valid      Test\n",
       "0   0.501885  0.464676  0.461259\n",
       "1   0.500508  0.463661  0.461806\n",
       "2   0.501259  0.464240  0.462544\n",
       "3   0.498506  0.463907  0.461865\n",
       "4   0.501677  0.464327  0.461892\n",
       "5   0.500067  0.464300  0.462051\n",
       "6   0.501183  0.464929  0.462157\n",
       "7   0.501315  0.463953  0.461571\n",
       "8   0.501801  0.464371  0.461758\n",
       "9   0.500225  0.463880  0.461786\n",
       "10  0.501490  0.464275  0.462229"
      ]
     },
     "execution_count": 19,
     "metadata": {},
     "output_type": "execute_result"
    }
   ],
   "source": [
    "metric_num_features_dependence(clf_base, X_train, y_train, X_valid, y_valid, X_test, y_test, df_base_imp, to_csv = True)"
   ]
  },
  {
   "cell_type": "code",
   "execution_count": 20,
   "id": "047579f2",
   "metadata": {},
   "outputs": [],
   "source": [
    "num_features = 8\n",
    "\n",
    "final_features = df_base_imp['feature_name'].values[:num_features]\n",
    "final_features.remove('params')"
   ]
  },
  {
   "cell_type": "code",
   "execution_count": 22,
   "id": "6b825f0d",
   "metadata": {},
   "outputs": [],
   "source": [
    "with open(\"./final_files/final_features.pickle\", 'wb') as f:\n",
    "    pickle.dump(final_features, f)"
   ]
  },
  {
   "cell_type": "code",
   "execution_count": 26,
   "id": "e47695a3",
   "metadata": {},
   "outputs": [],
   "source": [
    "with open(\"./final_files/cat_features.pickle\", 'wb') as f:\n",
    "    pickle.dump(cat_features, f)"
   ]
  },
  {
   "cell_type": "code",
   "execution_count": 24,
   "id": "897d2cac",
   "metadata": {},
   "outputs": [],
   "source": [
    "X_train.to_csv(\"./final_files/X_train.csv\", index=False)\n",
    "X_valid.to_csv(\"./final_files/X_valid.csv\", index=False)\n",
    "X_test.to_csv(\"C:./final_files/X_test.csv\", index=False)\n",
    "\n",
    "y_train.to_csv(\"./final_files/y_train.csv\", index=False)\n",
    "y_valid.to_csv(\"./final_files/y_valid.csv\", index=False)\n",
    "y_test.to_csv(\"./final_files/y_test.csv\", index=False)"
   ]
  },
  {
   "cell_type": "markdown",
   "id": "136ce886",
   "metadata": {},
   "source": [
    "# Тюнинг модели"
   ]
  },
  {
   "cell_type": "code",
   "execution_count": 1,
   "id": "43c3bea9",
   "metadata": {},
   "outputs": [],
   "source": [
    "import pandas as pd\n",
    "import numpy as np\n",
    "import scipy\n",
    "\n",
    "import sklearn\n",
    "from sklearn.model_selection import train_test_split\n",
    "from sklearn.metrics import roc_auc_score\n",
    "\n",
    "import matplotlib.pyplot as plt\n",
    "import seaborn as sns\n",
    "\n",
    "from catboost import CatBoostClassifier\n",
    "import optuna\n",
    "\n",
    "import pickle\n",
    "\n",
    "from tqdm import tqdm\n",
    "\n",
    "import warnings\n",
    "warnings.filterwarnings(\"ignore\")\n",
    "\n",
    "import gc"
   ]
  },
  {
   "cell_type": "code",
   "execution_count": 2,
   "id": "1b2f5644",
   "metadata": {},
   "outputs": [
    {
     "data": {
      "text/plain": [
       "[]"
      ]
     },
     "execution_count": 2,
     "metadata": {},
     "output_type": "execute_result"
    }
   ],
   "source": [
    "with open(\"./final_files/cat_features.pickle\", 'rb') as f:\n",
    "    cat_features = pickle.load(f)\n",
    "    \n",
    "cat_features"
   ]
  },
  {
   "cell_type": "code",
   "execution_count": 3,
   "id": "60519db1",
   "metadata": {},
   "outputs": [
    {
     "data": {
      "text/plain": [
       "['histctr',\n",
       " 'subcategoryid',\n",
       " 'price',\n",
       " 'position',\n",
       " 'categoryid',\n",
       " 'parentcategoryid']"
      ]
     },
     "execution_count": 3,
     "metadata": {},
     "output_type": "execute_result"
    }
   ],
   "source": [
    "with open(\"./final_files/final_features.pickle\", 'rb') as f:\n",
    "    final_features = pickle.load(f)\n",
    "    \n",
    "final_features"
   ]
  },
  {
   "cell_type": "code",
   "execution_count": 6,
   "id": "ab576179",
   "metadata": {},
   "outputs": [],
   "source": [
    "X_train = pd.read_csv(\"./final_files/X_train.csv\")[final_features]\n",
    "X_valid = pd.read_csv(\"./final_files/X_valid.csv\")[final_features]\n",
    "X_test  = pd.read_csv(\"./final_files/X_test.csv\")[final_features]\n",
    "\n",
    "y_train = pd.read_csv(\"./final_files/y_train.csv\")\n",
    "y_valid = pd.read_csv(\"./final_files/y_valid.csv\")\n",
    "y_test  = pd.read_csv(\"./final_files/y_test.csv\")"
   ]
  },
  {
   "cell_type": "code",
   "execution_count": 8,
   "id": "3dfe390a",
   "metadata": {},
   "outputs": [],
   "source": [
    "def objective(trial):\n",
    "    params = {\n",
    "        \"depth\": trial.suggest_int(\"depth\", 3, 8),\n",
    "        \"learning_rate\": trial.suggest_float(\"learning_rate\", 0.1, 1.0),\n",
    "        \"l2_leaf_reg\": trial.suggest_float(\"l2_leaf_reg\", 0.1, 20.0),\n",
    "        \"subsample\": trial.suggest_float(\"subsample\", 0.2, 0.8),\n",
    "        \"task_type\": \"GPU\",\n",
    "        \"cat_features\" : cat_features,\n",
    "        \"gpu_ram_part\": 0.9,\n",
    "        \"devices\": '0',\n",
    "        \"thread_count\": -1,\n",
    "        \"use_best_model\": True,\n",
    "        \"min_data_in_leaf\": 200,\n",
    "        \"bootstrap_type\": \"Poisson\",\n",
    "        \"iterations\": 10000,\n",
    "        \"early_stopping_rounds\": 50,\n",
    "        \"verbose\": False,\n",
    "        \"eval_metric\": \"AUC\",\n",
    "        \"objective\": \"Logloss\",\n",
    "        \"random_seed\": 98723\n",
    "    }\n",
    "    \n",
    "    clf = CatBoostClassifier(**params)\n",
    "    \n",
    "    clf.fit(X_train, y_train, eval_set = (X_valid, y_valid))\n",
    "    \n",
    "    predictions = clf.predict_proba(X_valid)[:, 1]\n",
    "    \n",
    "    gini = 2*roc_auc_score(y_valid, predictions)-1\n",
    "    \n",
    "    return gini"
   ]
  },
  {
   "cell_type": "code",
   "execution_count": 9,
   "id": "86eb8cc7",
   "metadata": {
    "scrolled": true
   },
   "outputs": [
    {
     "name": "stderr",
     "output_type": "stream",
     "text": [
      "[I 2024-03-26 16:06:52,040] A new study created in memory with name: catboost_tuning_base_final\n",
      "Default metric period is 5 because AUC is/are not implemented for GPU\n",
      "[I 2024-03-26 16:06:55,348] Trial 0 finished with value: 0.1234136134266941 and parameters: {'depth': 4, 'learning_rate': 0.25329169493331744, 'l2_leaf_reg': 10.868888028267015, 'subsample': 0.35599251491123407}. Best is trial 0 with value: 0.1234136134266941.\n",
      "Default metric period is 5 because AUC is/are not implemented for GPU\n",
      "[I 2024-03-26 16:06:56,671] Trial 1 finished with value: 0.12341388136090115 and parameters: {'depth': 7, 'learning_rate': 0.7508501871800549, 'l2_leaf_reg': 0.12221883446468658, 'subsample': 0.72328874627273}. Best is trial 1 with value: 0.12341388136090115.\n",
      "Default metric period is 5 because AUC is/are not implemented for GPU\n",
      "[I 2024-03-26 16:06:58,013] Trial 2 finished with value: 0.12374132737614318 and parameters: {'depth': 5, 'learning_rate': 0.5488704386114285, 'l2_leaf_reg': 7.518561012972642, 'subsample': 0.281751806885276}. Best is trial 2 with value: 0.12374132737614318.\n",
      "Default metric period is 5 because AUC is/are not implemented for GPU\n",
      "[I 2024-03-26 16:06:59,495] Trial 3 finished with value: 0.12341340559664693 and parameters: {'depth': 3, 'learning_rate': 0.7740551301655415, 'l2_leaf_reg': 9.462943243852248, 'subsample': 0.23570879647081805}. Best is trial 2 with value: 0.12374132737614318.\n",
      "Default metric period is 5 because AUC is/are not implemented for GPU\n",
      "[I 2024-03-26 16:07:01,891] Trial 4 finished with value: 0.1234136134266941 and parameters: {'depth': 3, 'learning_rate': 0.474464470091174, 'l2_leaf_reg': 9.418010798136647, 'subsample': 0.2950069974694256}. Best is trial 2 with value: 0.12374132737614318.\n",
      "Default metric period is 5 because AUC is/are not implemented for GPU\n",
      "[I 2024-03-26 16:07:03,510] Trial 5 finished with value: 0.12341388136090115 and parameters: {'depth': 6, 'learning_rate': 0.9218986330680138, 'l2_leaf_reg': 5.0063587491062185, 'subsample': 0.6196894970895798}. Best is trial 2 with value: 0.12374132737614318.\n",
      "Default metric period is 5 because AUC is/are not implemented for GPU\n",
      "[I 2024-03-26 16:07:04,830] Trial 6 finished with value: 0.12376374695195991 and parameters: {'depth': 7, 'learning_rate': 0.5292933527048783, 'l2_leaf_reg': 6.617747852740488, 'subsample': 0.6929782915614721}. Best is trial 6 with value: 0.12376374695195991.\n",
      "Default metric period is 5 because AUC is/are not implemented for GPU\n",
      "[I 2024-03-26 16:07:08,296] Trial 7 finished with value: 0.1234060808547417 and parameters: {'depth': 6, 'learning_rate': 0.20198369369521582, 'l2_leaf_reg': 18.489240393133358, 'subsample': 0.5189003938003502}. Best is trial 6 with value: 0.12376374695195991.\n",
      "Default metric period is 5 because AUC is/are not implemented for GPU\n",
      "[I 2024-03-26 16:07:10,047] Trial 8 finished with value: 0.12341388136090115 and parameters: {'depth': 6, 'learning_rate': 0.93349199502895, 'l2_leaf_reg': 3.6623397029184925, 'subsample': 0.4202711662226707}. Best is trial 6 with value: 0.12376374695195991.\n",
      "Default metric period is 5 because AUC is/are not implemented for GPU\n",
      "[I 2024-03-26 16:07:11,992] Trial 9 finished with value: 0.12341340559664693 and parameters: {'depth': 3, 'learning_rate': 0.47649782851004807, 'l2_leaf_reg': 10.351220894664607, 'subsample': 0.6318896596788115}. Best is trial 6 with value: 0.12376374695195991.\n",
      "Default metric period is 5 because AUC is/are not implemented for GPU\n",
      "[I 2024-03-26 16:07:15,009] Trial 10 finished with value: 0.43362236622475736 and parameters: {'depth': 8, 'learning_rate': 0.30300224656647157, 'l2_leaf_reg': 15.149766794267514, 'subsample': 0.7912170125228593}. Best is trial 10 with value: 0.43362236622475736.\n",
      "Default metric period is 5 because AUC is/are not implemented for GPU\n",
      "[I 2024-03-26 16:07:18,202] Trial 11 finished with value: 0.4306700234555181 and parameters: {'depth': 8, 'learning_rate': 0.34066410067834496, 'l2_leaf_reg': 15.435758156968564, 'subsample': 0.7948741417227797}. Best is trial 10 with value: 0.43362236622475736.\n",
      "Default metric period is 5 because AUC is/are not implemented for GPU\n",
      "[I 2024-03-26 16:07:21,152] Trial 12 finished with value: 0.43242458898144953 and parameters: {'depth': 8, 'learning_rate': 0.31660689351662985, 'l2_leaf_reg': 15.885627515650107, 'subsample': 0.7971789398454885}. Best is trial 10 with value: 0.43362236622475736.\n",
      "Default metric period is 5 because AUC is/are not implemented for GPU\n",
      "[I 2024-03-26 16:07:26,930] Trial 13 finished with value: 0.43437642486913486 and parameters: {'depth': 8, 'learning_rate': 0.12000043528101267, 'l2_leaf_reg': 14.565470809040514, 'subsample': 0.7998173654798316}. Best is trial 13 with value: 0.43437642486913486.\n",
      "Default metric period is 5 because AUC is/are not implemented for GPU\n",
      "[I 2024-03-26 16:07:28,566] Trial 14 finished with value: 0.12335873724241875 and parameters: {'depth': 8, 'learning_rate': 0.10350646882116117, 'l2_leaf_reg': 13.685349060747006, 'subsample': 0.5244422814931227}. Best is trial 13 with value: 0.43437642486913486.\n",
      "Default metric period is 5 because AUC is/are not implemented for GPU\n",
      "[I 2024-03-26 16:07:30,223] Trial 15 finished with value: 0.12335872565607464 and parameters: {'depth': 7, 'learning_rate': 0.10349493897736892, 'l2_leaf_reg': 19.63893322607277, 'subsample': 0.7177417561573595}. Best is trial 13 with value: 0.43437642486913486.\n",
      "Default metric period is 5 because AUC is/are not implemented for GPU\n",
      "[I 2024-03-26 16:07:33,798] Trial 16 finished with value: 0.12341388136090115 and parameters: {'depth': 8, 'learning_rate': 0.3806984233012027, 'l2_leaf_reg': 13.07404709641106, 'subsample': 0.602362636476205}. Best is trial 13 with value: 0.43437642486913486.\n",
      "Default metric period is 5 because AUC is/are not implemented for GPU\n",
      "[I 2024-03-26 16:07:39,428] Trial 17 finished with value: 0.4323607230614157 and parameters: {'depth': 7, 'learning_rate': 0.20028505878345182, 'l2_leaf_reg': 16.503312506777643, 'subsample': 0.748612781963257}. Best is trial 13 with value: 0.43437642486913486.\n",
      "Default metric period is 5 because AUC is/are not implemented for GPU\n",
      "[I 2024-03-26 16:07:40,824] Trial 18 finished with value: 0.12369762368623105 and parameters: {'depth': 5, 'learning_rate': 0.6833095273275478, 'l2_leaf_reg': 12.88381911957684, 'subsample': 0.4529825412793069}. Best is trial 13 with value: 0.43437642486913486.\n",
      "Default metric period is 5 because AUC is/are not implemented for GPU\n",
      "[I 2024-03-26 16:07:43,402] Trial 19 finished with value: 0.12341334549248684 and parameters: {'depth': 8, 'learning_rate': 0.3914362291439382, 'l2_leaf_reg': 17.602179789777622, 'subsample': 0.6678404884491098}. Best is trial 13 with value: 0.43437642486913486.\n",
      "Default metric period is 5 because AUC is/are not implemented for GPU\n",
      "[I 2024-03-26 16:07:44,828] Trial 20 finished with value: 0.12376298225324978 and parameters: {'depth': 7, 'learning_rate': 0.2207726193101089, 'l2_leaf_reg': 14.536739051737731, 'subsample': 0.5743401991412115}. Best is trial 13 with value: 0.43437642486913486.\n",
      "Default metric period is 5 because AUC is/are not implemented for GPU\n",
      "[I 2024-03-26 16:07:48,416] Trial 21 finished with value: 0.43296007214972865 and parameters: {'depth': 8, 'learning_rate': 0.29513399497647624, 'l2_leaf_reg': 16.684262681450612, 'subsample': 0.7910906150552953}. Best is trial 13 with value: 0.43437642486913486.\n",
      "Default metric period is 5 because AUC is/are not implemented for GPU\n",
      "[I 2024-03-26 16:07:51,348] Trial 22 finished with value: 0.43081991399762365 and parameters: {'depth': 8, 'learning_rate': 0.27709154001571673, 'l2_leaf_reg': 12.144716322015102, 'subsample': 0.7690673131405492}. Best is trial 13 with value: 0.43437642486913486.\n",
      "Default metric period is 5 because AUC is/are not implemented for GPU\n",
      "[I 2024-03-26 16:07:52,890] Trial 23 finished with value: 0.12374058585012127 and parameters: {'depth': 7, 'learning_rate': 0.15277677025111305, 'l2_leaf_reg': 17.516310400647075, 'subsample': 0.6683953268767455}. Best is trial 13 with value: 0.43437642486913486.\n",
      "Default metric period is 5 because AUC is/are not implemented for GPU\n",
      "[I 2024-03-26 16:07:55,574] Trial 24 finished with value: 0.42756438448315714 and parameters: {'depth': 8, 'learning_rate': 0.431977419172761, 'l2_leaf_reg': 19.60957085833552, 'subsample': 0.7419158157640207}. Best is trial 13 with value: 0.43437642486913486.\n"
     ]
    },
    {
     "name": "stderr",
     "output_type": "stream",
     "text": [
      "Default metric period is 5 because AUC is/are not implemented for GPU\n",
      "[I 2024-03-26 16:07:58,751] Trial 25 finished with value: 0.4254770826896861 and parameters: {'depth': 7, 'learning_rate': 0.6232894247172219, 'l2_leaf_reg': 14.80821915874493, 'subsample': 0.7640096097410407}. Best is trial 13 with value: 0.43437642486913486.\n",
      "Default metric period is 5 because AUC is/are not implemented for GPU\n",
      "[I 2024-03-26 16:08:00,152] Trial 26 finished with value: 0.1237380459062527 and parameters: {'depth': 8, 'learning_rate': 0.30294202012451116, 'l2_leaf_reg': 16.958165466754267, 'subsample': 0.6839413314657892}. Best is trial 13 with value: 0.43437642486913486.\n",
      "Default metric period is 5 because AUC is/are not implemented for GPU\n",
      "[I 2024-03-26 16:08:09,180] Trial 27 finished with value: 0.4344032172036263 and parameters: {'depth': 6, 'learning_rate': 0.1620281084688696, 'l2_leaf_reg': 11.852182991495631, 'subsample': 0.7956990640913315}. Best is trial 27 with value: 0.4344032172036263.\n",
      "Default metric period is 5 because AUC is/are not implemented for GPU\n",
      "[I 2024-03-26 16:08:10,509] Trial 28 finished with value: 0.12369838838494118 and parameters: {'depth': 4, 'learning_rate': 0.15575980306580664, 'l2_leaf_reg': 12.183879308615895, 'subsample': 0.7056351481708053}. Best is trial 27 with value: 0.4344032172036263.\n",
      "Default metric period is 5 because AUC is/are not implemented for GPU\n",
      "[I 2024-03-26 16:08:13,236] Trial 29 finished with value: 0.1234136134266941 and parameters: {'depth': 4, 'learning_rate': 0.23281156151508378, 'l2_leaf_reg': 11.801647924706776, 'subsample': 0.5729460204349596}. Best is trial 27 with value: 0.4344032172036263.\n",
      "Default metric period is 5 because AUC is/are not implemented for GPU\n",
      "[I 2024-03-26 16:08:14,669] Trial 30 finished with value: 0.12376316763475503 and parameters: {'depth': 5, 'learning_rate': 0.1555887195933791, 'l2_leaf_reg': 14.018203326347308, 'subsample': 0.3791925433542523}. Best is trial 27 with value: 0.4344032172036263.\n",
      "Default metric period is 5 because AUC is/are not implemented for GPU\n",
      "[I 2024-03-26 16:08:17,862] Trial 31 finished with value: 0.4338506286086625 and parameters: {'depth': 8, 'learning_rate': 0.2655212348231502, 'l2_leaf_reg': 11.19047739970637, 'subsample': 0.7965548758112493}. Best is trial 27 with value: 0.4344032172036263.\n",
      "Default metric period is 5 because AUC is/are not implemented for GPU\n",
      "[I 2024-03-26 16:08:21,803] Trial 32 finished with value: 0.4322646018456515 and parameters: {'depth': 6, 'learning_rate': 0.2499151209988062, 'l2_leaf_reg': 10.933133246931407, 'subsample': 0.7437786361164245}. Best is trial 27 with value: 0.4344032172036263.\n",
      "Default metric period is 5 because AUC is/are not implemented for GPU\n",
      "[I 2024-03-26 16:08:27,050] Trial 33 finished with value: 0.4310819375399175 and parameters: {'depth': 7, 'learning_rate': 0.16384425957823248, 'l2_leaf_reg': 7.48179263243752, 'subsample': 0.7494461862720874}. Best is trial 27 with value: 0.4344032172036263.\n",
      "Default metric period is 5 because AUC is/are not implemented for GPU\n",
      "[I 2024-03-26 16:08:28,396] Trial 34 finished with value: 0.12376315604841115 and parameters: {'depth': 7, 'learning_rate': 0.35803366039941437, 'l2_leaf_reg': 8.855742208600216, 'subsample': 0.6531888626241881}. Best is trial 27 with value: 0.4344032172036263.\n",
      "Default metric period is 5 because AUC is/are not implemented for GPU\n",
      "[I 2024-03-26 16:08:29,965] Trial 35 finished with value: 0.12340740423248087 and parameters: {'depth': 5, 'learning_rate': 0.10412442950879891, 'l2_leaf_reg': 0.3391748499706164, 'subsample': 0.716910931067974}. Best is trial 27 with value: 0.4344032172036263.\n",
      "Default metric period is 5 because AUC is/are not implemented for GPU\n",
      "[I 2024-03-26 16:08:34,677] Trial 36 finished with value: 0.4317412075791385 and parameters: {'depth': 6, 'learning_rate': 0.25296184065902844, 'l2_leaf_reg': 11.417350664047241, 'subsample': 0.7752584673799952}. Best is trial 27 with value: 0.4344032172036263.\n",
      "Default metric period is 5 because AUC is/are not implemented for GPU\n",
      "[I 2024-03-26 16:08:37,225] Trial 37 finished with value: 0.12341367353085397 and parameters: {'depth': 8, 'learning_rate': 0.4268184938286822, 'l2_leaf_reg': 9.940732155127465, 'subsample': 0.7202192559342678}. Best is trial 27 with value: 0.4344032172036263.\n",
      "Default metric period is 5 because AUC is/are not implemented for GPU\n",
      "[I 2024-03-26 16:08:41,820] Trial 38 finished with value: 0.4326798316158642 and parameters: {'depth': 7, 'learning_rate': 0.19357385887245987, 'l2_leaf_reg': 8.749482932076472, 'subsample': 0.7991676887625327}. Best is trial 27 with value: 0.4344032172036263.\n",
      "Default metric period is 5 because AUC is/are not implemented for GPU\n",
      "[I 2024-03-26 16:08:43,219] Trial 39 finished with value: 0.12369838838494118 and parameters: {'depth': 8, 'learning_rate': 0.5904226879364807, 'l2_leaf_reg': 14.842581344416946, 'subsample': 0.6928831078731509}. Best is trial 27 with value: 0.4344032172036263.\n",
      "Default metric period is 5 because AUC is/are not implemented for GPU\n",
      "[I 2024-03-26 16:08:46,535] Trial 40 finished with value: 0.3031174659503362 and parameters: {'depth': 6, 'learning_rate': 0.7491244920197209, 'l2_leaf_reg': 12.840935635933455, 'subsample': 0.2817308895292686}. Best is trial 27 with value: 0.4344032172036263.\n",
      "Default metric period is 5 because AUC is/are not implemented for GPU\n",
      "[I 2024-03-26 16:08:49,853] Trial 41 finished with value: 0.4333937381468669 and parameters: {'depth': 8, 'learning_rate': 0.2891874770382624, 'l2_leaf_reg': 15.971337816236444, 'subsample': 0.7749230200464412}. Best is trial 27 with value: 0.4344032172036263.\n",
      "Default metric period is 5 because AUC is/are not implemented for GPU\n",
      "[I 2024-03-26 16:08:52,440] Trial 42 finished with value: 0.4303971382587486 and parameters: {'depth': 8, 'learning_rate': 0.2772231076785412, 'l2_leaf_reg': 15.592913249662633, 'subsample': 0.7637546960174068}. Best is trial 27 with value: 0.4344032172036263.\n",
      "Default metric period is 5 because AUC is/are not implemented for GPU\n",
      "[I 2024-03-26 16:08:56,408] Trial 43 finished with value: 0.42872432181288245 and parameters: {'depth': 8, 'learning_rate': 0.3338698939661152, 'l2_leaf_reg': 18.48605728869138, 'subsample': 0.7373953524369538}. Best is trial 27 with value: 0.4344032172036263.\n",
      "Default metric period is 5 because AUC is/are not implemented for GPU\n",
      "[I 2024-03-26 16:08:59,505] Trial 44 finished with value: 0.4283985502053984 and parameters: {'depth': 8, 'learning_rate': 0.504230773239883, 'l2_leaf_reg': 13.645160515715784, 'subsample': 0.7730645500607577}. Best is trial 27 with value: 0.4344032172036263.\n",
      "Default metric period is 5 because AUC is/are not implemented for GPU\n",
      "[I 2024-03-26 16:09:04,541] Trial 45 finished with value: 0.43392417908302683 and parameters: {'depth': 7, 'learning_rate': 0.19259614971377814, 'l2_leaf_reg': 10.729047565853854, 'subsample': 0.7971476853698457}. Best is trial 27 with value: 0.4344032172036263.\n",
      "Default metric period is 5 because AUC is/are not implemented for GPU\n",
      "[I 2024-03-26 16:09:07,031] Trial 46 finished with value: 0.41907534823975556 and parameters: {'depth': 6, 'learning_rate': 0.9906516436496648, 'l2_leaf_reg': 7.971380889689675, 'subsample': 0.7907871260250096}. Best is trial 27 with value: 0.4344032172036263.\n",
      "Default metric period is 5 because AUC is/are not implemented for GPU\n",
      "[I 2024-03-26 16:09:09,695] Trial 47 finished with value: 0.12341340559664693 and parameters: {'depth': 7, 'learning_rate': 0.1874945344327507, 'l2_leaf_reg': 10.037956582932406, 'subsample': 0.638086046734815}. Best is trial 27 with value: 0.4344032172036263.\n",
      "Default metric period is 5 because AUC is/are not implemented for GPU\n",
      "[I 2024-03-26 16:09:11,184] Trial 48 finished with value: 0.12376316763475503 and parameters: {'depth': 7, 'learning_rate': 0.11377967570892632, 'l2_leaf_reg': 10.583695451245278, 'subsample': 0.7114425951512707}. Best is trial 27 with value: 0.4344032172036263.\n",
      "Default metric period is 5 because AUC is/are not implemented for GPU\n",
      "[I 2024-03-26 16:09:12,609] Trial 49 finished with value: 0.12376316763475503 and parameters: {'depth': 7, 'learning_rate': 0.22341222131784927, 'l2_leaf_reg': 6.35164950580734, 'subsample': 0.2214262747136957}. Best is trial 27 with value: 0.4344032172036263.\n"
     ]
    },
    {
     "name": "stderr",
     "output_type": "stream",
     "text": [
      "Default metric period is 5 because AUC is/are not implemented for GPU\n",
      "[I 2024-03-26 16:09:17,388] Trial 50 finished with value: 0.12341340559664693 and parameters: {'depth': 6, 'learning_rate': 0.13782326008729415, 'l2_leaf_reg': 12.760940606677984, 'subsample': 0.48789834446938296}. Best is trial 27 with value: 0.4344032172036263.\n",
      "Default metric period is 5 because AUC is/are not implemented for GPU\n",
      "[I 2024-03-26 16:09:21,748] Trial 51 finished with value: 0.43506427461745956 and parameters: {'depth': 8, 'learning_rate': 0.18320156535710722, 'l2_leaf_reg': 11.063826099846182, 'subsample': 0.7719926601834819}. Best is trial 51 with value: 0.43506427461745956.\n",
      "Default metric period is 5 because AUC is/are not implemented for GPU\n",
      "[I 2024-03-26 16:09:26,285] Trial 52 finished with value: 0.4334392793585371 and parameters: {'depth': 8, 'learning_rate': 0.1851237650324012, 'l2_leaf_reg': 11.382452427918476, 'subsample': 0.7998626531446146}. Best is trial 51 with value: 0.43506427461745956.\n",
      "Default metric period is 5 because AUC is/are not implemented for GPU\n",
      "[I 2024-03-26 16:09:30,655] Trial 53 finished with value: 0.42762346705344756 and parameters: {'depth': 8, 'learning_rate': 0.22232896864795493, 'l2_leaf_reg': 9.631020218519783, 'subsample': 0.7360642094311277}. Best is trial 51 with value: 0.43506427461745956.\n",
      "Default metric period is 5 because AUC is/are not implemented for GPU\n",
      "[I 2024-03-26 16:09:36,682] Trial 54 finished with value: 0.43405579252940174 and parameters: {'depth': 7, 'learning_rate': 0.13505123793441998, 'l2_leaf_reg': 13.575733153524263, 'subsample': 0.7589825199974454}. Best is trial 51 with value: 0.43506427461745956.\n",
      "Default metric period is 5 because AUC is/are not implemented for GPU\n",
      "[I 2024-03-26 16:09:42,767] Trial 55 finished with value: 0.4335126842794541 and parameters: {'depth': 7, 'learning_rate': 0.1292761438626051, 'l2_leaf_reg': 13.803337074545972, 'subsample': 0.7608419681693871}. Best is trial 51 with value: 0.43506427461745956.\n",
      "Default metric period is 5 because AUC is/are not implemented for GPU\n",
      "[I 2024-03-26 16:09:44,175] Trial 56 finished with value: 0.12376316763475503 and parameters: {'depth': 6, 'learning_rate': 0.17087284223644114, 'l2_leaf_reg': 8.79891541025879, 'subsample': 0.6858500935397298}. Best is trial 51 with value: 0.43506427461745956.\n",
      "Default metric period is 5 because AUC is/are not implemented for GPU\n",
      "[I 2024-03-26 16:09:52,981] Trial 57 finished with value: 0.43153831512495056 and parameters: {'depth': 7, 'learning_rate': 0.13367293434863575, 'l2_leaf_reg': 11.06306569668755, 'subsample': 0.7275669229479114}. Best is trial 51 with value: 0.43506427461745956.\n",
      "Default metric period is 5 because AUC is/are not implemented for GPU\n",
      "[I 2024-03-26 16:09:59,831] Trial 58 finished with value: 0.4338767536421484 and parameters: {'depth': 7, 'learning_rate': 0.2011903424500813, 'l2_leaf_reg': 12.140722882065313, 'subsample': 0.7796530356502438}. Best is trial 51 with value: 0.43506427461745956.\n",
      "Default metric period is 5 because AUC is/are not implemented for GPU\n",
      "[I 2024-03-26 16:10:04,174] Trial 59 finished with value: 0.1234136134266941 and parameters: {'depth': 6, 'learning_rate': 0.21353904783810412, 'l2_leaf_reg': 12.273589370317064, 'subsample': 0.5934167224163603}. Best is trial 51 with value: 0.43506427461745956.\n",
      "Default metric period is 5 because AUC is/are not implemented for GPU\n",
      "[I 2024-03-26 16:10:08,858] Trial 60 finished with value: 0.4328446348690349 and parameters: {'depth': 7, 'learning_rate': 0.19100899571743907, 'l2_leaf_reg': 14.005202257182704, 'subsample': 0.7509620548130184}. Best is trial 51 with value: 0.43506427461745956.\n",
      "Default metric period is 5 because AUC is/are not implemented for GPU\n",
      "[I 2024-03-26 16:10:13,319] Trial 61 finished with value: 0.43258816317696347 and parameters: {'depth': 7, 'learning_rate': 0.2577385422793196, 'l2_leaf_reg': 13.197165296913091, 'subsample': 0.782086891416351}. Best is trial 51 with value: 0.43506427461745956.\n",
      "Default metric period is 5 because AUC is/are not implemented for GPU\n",
      "[I 2024-03-26 16:10:15,408] Trial 62 finished with value: 0.42478105280139666 and parameters: {'depth': 8, 'learning_rate': 0.8473608340607494, 'l2_leaf_reg': 10.667965672781461, 'subsample': 0.799124547516891}. Best is trial 51 with value: 0.43506427461745956.\n",
      "Default metric period is 5 because AUC is/are not implemented for GPU\n",
      "[I 2024-03-26 16:10:26,663] Trial 63 finished with value: 0.43220462785101255 and parameters: {'depth': 5, 'learning_rate': 0.1278624871460014, 'l2_leaf_reg': 11.880464862442759, 'subsample': 0.7609776147174299}. Best is trial 51 with value: 0.43506427461745956.\n",
      "Default metric period is 5 because AUC is/are not implemented for GPU\n",
      "[I 2024-03-26 16:10:31,194] Trial 64 finished with value: 0.4321894948183729 and parameters: {'depth': 7, 'learning_rate': 0.16645646410758608, 'l2_leaf_reg': 12.430480562852035, 'subsample': 0.7744807414392206}. Best is trial 51 with value: 0.43506427461745956.\n",
      "Default metric period is 5 because AUC is/are not implemented for GPU\n",
      "[I 2024-03-26 16:10:35,626] Trial 65 finished with value: 0.43263899391678473 and parameters: {'depth': 7, 'learning_rate': 0.246824986614248, 'l2_leaf_reg': 11.419709849377895, 'subsample': 0.7340061637333251}. Best is trial 51 with value: 0.43506427461745956.\n",
      "Default metric period is 5 because AUC is/are not implemented for GPU\n",
      "[I 2024-03-26 16:10:36,990] Trial 66 finished with value: 0.12374058585012127 and parameters: {'depth': 8, 'learning_rate': 0.3264116395081097, 'l2_leaf_reg': 13.372441077785824, 'subsample': 0.6999358628109265}. Best is trial 51 with value: 0.43506427461745956.\n",
      "Default metric period is 5 because AUC is/are not implemented for GPU\n",
      "[I 2024-03-26 16:10:40,392] Trial 67 finished with value: 0.12340673258659685 and parameters: {'depth': 3, 'learning_rate': 0.14631937825544064, 'l2_leaf_reg': 14.227112327884617, 'subsample': 0.6727418511901925}. Best is trial 51 with value: 0.43506427461745956.\n",
      "Default metric period is 5 because AUC is/are not implemented for GPU\n",
      "[I 2024-03-26 16:10:44,247] Trial 68 finished with value: 0.43312588377690875 and parameters: {'depth': 8, 'learning_rate': 0.20410147809215995, 'l2_leaf_reg': 10.204017874042036, 'subsample': 0.7811338376013156}. Best is trial 51 with value: 0.43506427461745956.\n",
      "Default metric period is 5 because AUC is/are not implemented for GPU\n",
      "[I 2024-03-26 16:10:51,088] Trial 69 finished with value: 0.43138730523338364 and parameters: {'depth': 6, 'learning_rate': 0.10241142728758552, 'l2_leaf_reg': 9.431842422040111, 'subsample': 0.7618929422761338}. Best is trial 51 with value: 0.43506427461745956.\n",
      "Default metric period is 5 because AUC is/are not implemented for GPU\n",
      "[I 2024-03-26 16:10:52,518] Trial 70 finished with value: 0.12374058585012127 and parameters: {'depth': 8, 'learning_rate': 0.2707173503012628, 'l2_leaf_reg': 11.613622584749546, 'subsample': 0.540993255550426}. Best is trial 51 with value: 0.43506427461745956.\n",
      "Default metric period is 5 because AUC is/are not implemented for GPU\n",
      "[I 2024-03-26 16:10:56,356] Trial 71 finished with value: 0.43171196998293393 and parameters: {'depth': 8, 'learning_rate': 0.23272534427585556, 'l2_leaf_reg': 14.920849165822652, 'subsample': 0.7484714893425607}. Best is trial 51 with value: 0.43506427461745956.\n",
      "Default metric period is 5 because AUC is/are not implemented for GPU\n",
      "[I 2024-03-26 16:10:59,945] Trial 72 finished with value: 0.43346751763256375 and parameters: {'depth': 8, 'learning_rate': 0.3022056532016238, 'l2_leaf_reg': 16.12812734148872, 'subsample': 0.7860577392569904}. Best is trial 51 with value: 0.43506427461745956.\n",
      "Default metric period is 5 because AUC is/are not implemented for GPU\n",
      "[I 2024-03-26 16:11:01,378] Trial 73 finished with value: 0.12373443277726248 and parameters: {'depth': 7, 'learning_rate': 0.17594268197003302, 'l2_leaf_reg': 15.051472989420542, 'subsample': 0.7232194792819039}. Best is trial 51 with value: 0.43506427461745956.\n",
      "Default metric period is 5 because AUC is/are not implemented for GPU\n",
      "[I 2024-03-26 16:11:04,991] Trial 74 finished with value: 0.12340678689758477 and parameters: {'depth': 8, 'learning_rate': 0.15091348663851983, 'l2_leaf_reg': 12.44648814855839, 'subsample': 0.41076989022239885}. Best is trial 51 with value: 0.43506427461745956.\n"
     ]
    },
    {
     "name": "stderr",
     "output_type": "stream",
     "text": [
      "Default metric period is 5 because AUC is/are not implemented for GPU\n",
      "[I 2024-03-26 16:11:07,613] Trial 75 finished with value: 0.4310230003420381 and parameters: {'depth': 8, 'learning_rate': 0.37420427562799663, 'l2_leaf_reg': 14.347025548285139, 'subsample': 0.7515527975162297}. Best is trial 51 with value: 0.43506427461745956.\n",
      "Default metric period is 5 because AUC is/are not implemented for GPU\n",
      "[I 2024-03-26 16:11:10,733] Trial 76 finished with value: 0.42920209448746305 and parameters: {'depth': 7, 'learning_rate': 0.4203312821607196, 'l2_leaf_reg': 15.405137463989378, 'subsample': 0.782723359641234}. Best is trial 51 with value: 0.43506427461745956.\n",
      "Default metric period is 5 because AUC is/are not implemented for GPU\n",
      "[I 2024-03-26 16:11:15,310] Trial 77 finished with value: 0.1234136134266941 and parameters: {'depth': 8, 'learning_rate': 0.19916972489156584, 'l2_leaf_reg': 13.183737281098894, 'subsample': 0.7087700976644365}. Best is trial 51 with value: 0.43506427461745956.\n",
      "Default metric period is 5 because AUC is/are not implemented for GPU\n",
      "[I 2024-03-26 16:11:26,764] Trial 78 finished with value: 0.4342830349529536 and parameters: {'depth': 4, 'learning_rate': 0.2461612914609125, 'l2_leaf_reg': 10.445381030587786, 'subsample': 0.7639589280336436}. Best is trial 51 with value: 0.43506427461745956.\n",
      "Default metric period is 5 because AUC is/are not implemented for GPU\n",
      "[I 2024-03-26 16:11:56,611] Trial 79 finished with value: 0.4312873107389974 and parameters: {'depth': 3, 'learning_rate': 0.12131578035365434, 'l2_leaf_reg': 10.91122922579208, 'subsample': 0.7644950953533631}. Best is trial 51 with value: 0.43506427461745956.\n",
      "Default metric period is 5 because AUC is/are not implemented for GPU\n",
      "[I 2024-03-26 16:12:05,502] Trial 80 finished with value: 0.4315571874691091 and parameters: {'depth': 4, 'learning_rate': 0.24985565008269556, 'l2_leaf_reg': 9.117053449403796, 'subsample': 0.7332299047097256}. Best is trial 51 with value: 0.43506427461745956.\n",
      "Default metric period is 5 because AUC is/are not implemented for GPU\n",
      "[I 2024-03-26 16:12:14,061] Trial 81 finished with value: 0.4324658159092756 and parameters: {'depth': 4, 'learning_rate': 0.21582773912973635, 'l2_leaf_reg': 10.556279755306702, 'subsample': 0.7997743024830495}. Best is trial 51 with value: 0.43506427461745956.\n",
      "Default metric period is 5 because AUC is/are not implemented for GPU\n",
      "[I 2024-03-26 16:12:18,770] Trial 82 finished with value: 0.43072472077560664 and parameters: {'depth': 5, 'learning_rate': 0.3097096086154559, 'l2_leaf_reg': 7.746898014356056, 'subsample': 0.7798515435043368}. Best is trial 51 with value: 0.43506427461745956.\n",
      "Default metric period is 5 because AUC is/are not implemented for GPU\n",
      "[I 2024-03-26 16:12:21,857] Trial 83 finished with value: 0.432086706385731 and parameters: {'depth': 8, 'learning_rate': 0.2766869604652428, 'l2_leaf_reg': 11.970861966518607, 'subsample': 0.7513338464109954}. Best is trial 51 with value: 0.43506427461745956.\n",
      "Default metric period is 5 because AUC is/are not implemented for GPU\n",
      "[I 2024-03-26 16:12:27,792] Trial 84 finished with value: 0.43092819399529203 and parameters: {'depth': 5, 'learning_rate': 0.3520327430644214, 'l2_leaf_reg': 8.318530616076012, 'subsample': 0.7844202777087663}. Best is trial 51 with value: 0.43506427461745956.\n",
      "Default metric period is 5 because AUC is/are not implemented for GPU\n",
      "[I 2024-03-26 16:12:33,765] Trial 85 finished with value: 0.4325224874337752 and parameters: {'depth': 6, 'learning_rate': 0.17439110147785408, 'l2_leaf_reg': 9.890410606513235, 'subsample': 0.7640981536423864}. Best is trial 51 with value: 0.43506427461745956.\n",
      "Default metric period is 5 because AUC is/are not implemented for GPU\n",
      "[I 2024-03-26 16:12:39,327] Trial 86 finished with value: 0.4310348307235017 and parameters: {'depth': 7, 'learning_rate': 0.23350139056687727, 'l2_leaf_reg': 12.780088400587909, 'subsample': 0.7412165738436454}. Best is trial 51 with value: 0.43506427461745956.\n",
      "Default metric period is 5 because AUC is/are not implemented for GPU\n",
      "[I 2024-03-26 16:12:40,674] Trial 87 finished with value: 0.12369838838494118 and parameters: {'depth': 4, 'learning_rate': 0.15237444018882357, 'l2_leaf_reg': 11.119306462234881, 'subsample': 0.33200997952337763}. Best is trial 51 with value: 0.43506427461745956.\n",
      "Default metric period is 5 because AUC is/are not implemented for GPU\n",
      "[I 2024-03-26 16:12:42,592] Trial 88 finished with value: 0.4265087389142197 and parameters: {'depth': 8, 'learning_rate': 0.6636897604452016, 'l2_leaf_reg': 1.861677631482312, 'subsample': 0.7993020041406982}. Best is trial 51 with value: 0.43506427461745956.\n",
      "Default metric period is 5 because AUC is/are not implemented for GPU\n",
      "[I 2024-03-26 16:12:45,914] Trial 89 finished with value: 0.12340678689758477 and parameters: {'depth': 6, 'learning_rate': 0.20270897971603144, 'l2_leaf_reg': 16.890705286531162, 'subsample': 0.7181493486245204}. Best is trial 51 with value: 0.43506427461745956.\n",
      "Default metric period is 5 because AUC is/are not implemented for GPU\n",
      "[I 2024-03-26 16:12:48,071] Trial 90 finished with value: 0.430885568016417 and parameters: {'depth': 7, 'learning_rate': 0.4619135754414879, 'l2_leaf_reg': 13.609316881352369, 'subsample': 0.7711899569542265}. Best is trial 51 with value: 0.43506427461745956.\n",
      "Default metric period is 5 because AUC is/are not implemented for GPU\n",
      "[I 2024-03-26 16:12:55,215] Trial 91 finished with value: 0.43171352291511544 and parameters: {'depth': 7, 'learning_rate': 0.12703637201089446, 'l2_leaf_reg': 13.637769387781203, 'subsample': 0.7557677424920834}. Best is trial 51 with value: 0.43506427461745956.\n",
      "Default metric period is 5 because AUC is/are not implemented for GPU\n",
      "[I 2024-03-26 16:13:00,741] Trial 92 finished with value: 0.4311367127057555 and parameters: {'depth': 7, 'learning_rate': 0.10413545932664021, 'l2_leaf_reg': 13.984326054321194, 'subsample': 0.7898175088601129}. Best is trial 51 with value: 0.43506427461745956.\n",
      "Default metric period is 5 because AUC is/are not implemented for GPU\n",
      "[I 2024-03-26 16:13:05,464] Trial 93 finished with value: 0.43404960107677804 and parameters: {'depth': 7, 'learning_rate': 0.13818142582966858, 'l2_leaf_reg': 11.648408715445184, 'subsample': 0.7714430090816169}. Best is trial 51 with value: 0.43506427461745956.\n",
      "Default metric period is 5 because AUC is/are not implemented for GPU\n",
      "[I 2024-03-26 16:13:09,809] Trial 94 finished with value: 0.43532624656431507 and parameters: {'depth': 7, 'learning_rate': 0.17510403503017383, 'l2_leaf_reg': 11.665618726536433, 'subsample': 0.7705482741285251}. Best is trial 94 with value: 0.43532624656431507.\n",
      "Default metric period is 5 because AUC is/are not implemented for GPU\n",
      "[I 2024-03-26 16:13:14,479] Trial 95 finished with value: 0.4342812881305451 and parameters: {'depth': 7, 'learning_rate': 0.17475972291193445, 'l2_leaf_reg': 10.296853787588773, 'subsample': 0.7697655836039343}. Best is trial 94 with value: 0.43532624656431507.\n",
      "Default metric period is 5 because AUC is/are not implemented for GPU\n",
      "[I 2024-03-26 16:13:23,045] Trial 96 finished with value: 0.42990107110892106 and parameters: {'depth': 7, 'learning_rate': 0.16328021711833146, 'l2_leaf_reg': 10.327240576852466, 'subsample': 0.7374124331324325}. Best is trial 94 with value: 0.43532624656431507.\n",
      "Default metric period is 5 because AUC is/are not implemented for GPU\n",
      "[I 2024-03-26 16:13:28,391] Trial 97 finished with value: 0.43430578926549224 and parameters: {'depth': 7, 'learning_rate': 0.13990639571091393, 'l2_leaf_reg': 11.685690298075672, 'subsample': 0.7721758816881583}. Best is trial 94 with value: 0.43532624656431507.\n",
      "Default metric period is 5 because AUC is/are not implemented for GPU\n",
      "[I 2024-03-26 16:13:30,926] Trial 98 finished with value: 0.1234060808547417 and parameters: {'depth': 7, 'learning_rate': 0.14060086813833894, 'l2_leaf_reg': 11.693101130228404, 'subsample': 0.6978806621369067}. Best is trial 94 with value: 0.43532624656431507.\n",
      "Default metric period is 5 because AUC is/are not implemented for GPU\n",
      "[I 2024-03-26 16:13:32,352] Trial 99 finished with value: 0.12376316763475503 and parameters: {'depth': 6, 'learning_rate': 0.18228276055232215, 'l2_leaf_reg': 9.247298023468684, 'subsample': 0.7249357416127286}. Best is trial 94 with value: 0.43532624656431507.\n"
     ]
    },
    {
     "name": "stdout",
     "output_type": "stream",
     "text": [
      "CPU times: total: 14min 2s\n",
      "Wall time: 6min 40s\n"
     ]
    }
   ],
   "source": [
    "%%time\n",
    "study_final = optuna.create_study(study_name=\"catboost_tuning_base_final\", direction=\"maximize\")\n",
    "\n",
    "study_final.optimize(objective, n_trials = 100, timeout = 6000)"
   ]
  },
  {
   "cell_type": "code",
   "execution_count": 10,
   "id": "bd69949a",
   "metadata": {},
   "outputs": [
    {
     "name": "stdout",
     "output_type": "stream",
     "text": [
      "total_trials: 100\n",
      "best_trial value: 0.43532624656431507\n",
      "\n",
      "Params: \n",
      "depth : 7\n",
      "learning_rate : 0.17510403503017383\n",
      "l2_leaf_reg : 11.665618726536433\n",
      "subsample : 0.7705482741285251\n"
     ]
    }
   ],
   "source": [
    "print('total_trials:', len(study_final.trials))\n",
    "\n",
    "trial_final = study_final.best_trial\n",
    "print(\"best_trial value:\", trial_final.value)\n",
    "print()\n",
    "print(\"Params: \")\n",
    "for key, value in trial_final.params.items():\n",
    "    print(\"{} : {}\".format(key, value))"
   ]
  },
  {
   "cell_type": "code",
   "execution_count": 11,
   "id": "756ac5f2",
   "metadata": {},
   "outputs": [
    {
     "data": {
      "text/plain": [
       "{'depth': 7,\n",
       " 'learning_rate': 0.17510403503017383,\n",
       " 'l2_leaf_reg': 11.665618726536433,\n",
       " 'subsample': 0.7705482741285251}"
      ]
     },
     "execution_count": 11,
     "metadata": {},
     "output_type": "execute_result"
    }
   ],
   "source": [
    "best_params_final = trial_final.params\n",
    "best_params_final"
   ]
  },
  {
   "cell_type": "markdown",
   "id": "aa8a052d",
   "metadata": {},
   "source": [
    "# Обучение финальной модели на CPU"
   ]
  },
  {
   "cell_type": "code",
   "execution_count": 12,
   "id": "64742a08",
   "metadata": {},
   "outputs": [
    {
     "name": "stdout",
     "output_type": "stream",
     "text": [
      "0:\ttest: 0.6401911\tbest: 0.6401911 (0)\ttotal: 179ms\tremaining: 29m 50s\n",
      "100:\ttest: 0.7168479\tbest: 0.7168479 (100)\ttotal: 17.4s\tremaining: 28m 22s\n",
      "200:\ttest: 0.7173129\tbest: 0.7173129 (200)\ttotal: 35.4s\tremaining: 28m 48s\n",
      "Stopped by overfitting detector  (50 iterations wait)\n",
      "\n",
      "bestTest = 0.7173541719\n",
      "bestIteration = 201\n",
      "\n",
      "Shrink model to first 202 iterations.\n"
     ]
    },
    {
     "data": {
      "text/plain": [
       "<catboost.core.CatBoostClassifier at 0x24717eb1bd0>"
      ]
     },
     "execution_count": 12,
     "metadata": {},
     "output_type": "execute_result"
    }
   ],
   "source": [
    "clf_final = CatBoostClassifier(**best_params_final,\n",
    "                                 task_type = \"CPU\",\n",
    "                                 thread_count = -1,\n",
    "                                 use_best_model = True,\n",
    "                                 min_data_in_leaf = 200,\n",
    "                                 iterations = 10000,\n",
    "                                 early_stopping_rounds = 50,\n",
    "                                 verbose = True,\n",
    "                                 eval_metric = \"AUC\",\n",
    "                                 objective = \"Logloss\",\n",
    "                                 random_seed = 98723)\n",
    "\n",
    "clf_final.fit(X_train, y_train, eval_set = (X_valid, y_valid), verbose=100)"
   ]
  },
  {
   "cell_type": "code",
   "execution_count": 14,
   "id": "073e4a48",
   "metadata": {},
   "outputs": [
    {
     "name": "stdout",
     "output_type": "stream",
     "text": [
      "gini_train base_model_all_features:  0.4658025257141789\n",
      "gini_valid base_model_all_features:  0.43470834375630596\n",
      "gini_test base_model_all_features:  0.433464419799501\n",
      "\n",
      "Относительное изменение Gini base_model_all_features:\n",
      "6.9424496711554715\n"
     ]
    }
   ],
   "source": [
    "gini_train_final = 2*roc_auc_score(y_train, clf_final.predict_proba(X_train)[:, 1])-1\n",
    "gini_valid_final = 2*roc_auc_score(y_valid, clf_final.predict_proba(X_valid)[:, 1])-1\n",
    "gini_test_final = 2*roc_auc_score(y_test, clf_final.predict_proba(X_test)[:, 1])-1\n",
    "\n",
    "print('gini_train base_model_all_features: ', gini_train_final)\n",
    "print('gini_valid base_model_all_features: ', gini_valid_final)\n",
    "print('gini_test base_model_all_features: ', gini_test_final)\n",
    "\n",
    "print()\n",
    "\n",
    "print(\"Относительное изменение Gini base_model_all_features:\")\n",
    "print((gini_train_final - gini_test_final)*100 / gini_train_final)"
   ]
  },
  {
   "cell_type": "code",
   "execution_count": 15,
   "id": "53c47443",
   "metadata": {},
   "outputs": [],
   "source": [
    "with open('./final_files/model.pickle', 'wb') as f:\n",
    "    pickle.dump(clf_final, f)"
   ]
  },
  {
   "cell_type": "code",
   "execution_count": null,
   "id": "235178b4",
   "metadata": {},
   "outputs": [],
   "source": []
  },
  {
   "cell_type": "code",
   "execution_count": null,
   "id": "9f965ca6",
   "metadata": {},
   "outputs": [],
   "source": []
  },
  {
   "cell_type": "code",
   "execution_count": null,
   "id": "b2033651",
   "metadata": {},
   "outputs": [],
   "source": []
  }
 ],
 "metadata": {
  "kernelspec": {
   "display_name": "Python 3 (ipykernel)",
   "language": "python",
   "name": "python3"
  },
  "language_info": {
   "codemirror_mode": {
    "name": "ipython",
    "version": 3
   },
   "file_extension": ".py",
   "mimetype": "text/x-python",
   "name": "python",
   "nbconvert_exporter": "python",
   "pygments_lexer": "ipython3",
   "version": "3.11.5"
  }
 },
 "nbformat": 4,
 "nbformat_minor": 5
}
