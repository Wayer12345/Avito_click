{
 "cells": [
  {
   "cell_type": "code",
   "execution_count": 1,
   "id": "3d15a28a",
   "metadata": {},
   "outputs": [],
   "source": [
    "import pandas as pd\n",
    "import numpy as np\n",
    "\n",
    "import sklearn\n",
    "from sklearn.model_selection import train_test_split\n",
    "from sklearn.metrics import roc_auc_score\n",
    "\n",
    "from catboost import CatBoostClassifier\n",
    "\n",
    "from tqdm import tqdm\n",
    "import pickle\n",
    "import json\n",
    "\n",
    "import warnings\n",
    "warnings.filterwarnings(\"ignore\")"
   ]
  },
  {
   "cell_type": "code",
   "execution_count": 2,
   "id": "9fa5c711",
   "metadata": {},
   "outputs": [
    {
     "data": {
      "text/plain": [
       "'C:\\\\Users\\\\Maxim\\\\JUPITER NOTEBOOK\\\\ML Projects\\\\Avito Click'"
      ]
     },
     "execution_count": 2,
     "metadata": {},
     "output_type": "execute_result"
    }
   ],
   "source": [
    "pwd"
   ]
  },
  {
   "cell_type": "markdown",
   "id": "5ced55d1",
   "metadata": {},
   "source": [
    "# Inference class"
   ]
  },
  {
   "cell_type": "code",
   "execution_count": 3,
   "id": "d74764ed",
   "metadata": {},
   "outputs": [],
   "source": [
    "class Inference:\n",
    "    def __init__(self, data):\n",
    "        self.data = data\n",
    "        self.data.columns = self.data.columns.str.lower()\n",
    "        \n",
    "    def preprocessing(self):\n",
    "        with open('./final_files/final_features.pickle', 'rb') as f:\n",
    "            self.final_features = pickle.load(f)\n",
    "        with open('./final_files/model.pickle', 'rb') as f:\n",
    "            self.model = pickle.load(f)\n",
    "            \n",
    "        self.data[['price', 'parentcategoryid', 'categoryid', 'subcategoryid']] = self.data[['price', 'parentcategoryid', 'categoryid', 'subcategoryid']].fillna(0)\n",
    "        \n",
    "    def prediction(self):\n",
    "        self.data['prediction'] = self.model.predict_proba(self.data[self.final_features])[:, 1]"
   ]
  },
  {
   "cell_type": "markdown",
   "id": "639dce76",
   "metadata": {},
   "source": [
    "# Test scoring"
   ]
  },
  {
   "cell_type": "code",
   "execution_count": 4,
   "id": "1672bc5d",
   "metadata": {
    "scrolled": true
   },
   "outputs": [
    {
     "data": {
      "text/html": [
       "<div>\n",
       "<style scoped>\n",
       "    .dataframe tbody tr th:only-of-type {\n",
       "        vertical-align: middle;\n",
       "    }\n",
       "\n",
       "    .dataframe tbody tr th {\n",
       "        vertical-align: top;\n",
       "    }\n",
       "\n",
       "    .dataframe thead th {\n",
       "        text-align: right;\n",
       "    }\n",
       "</style>\n",
       "<table border=\"1\" class=\"dataframe\">\n",
       "  <thead>\n",
       "    <tr style=\"text-align: right;\">\n",
       "      <th></th>\n",
       "      <th>ID</th>\n",
       "      <th>SearchID</th>\n",
       "      <th>AdID</th>\n",
       "      <th>Position</th>\n",
       "      <th>ObjectType</th>\n",
       "      <th>HistCTR</th>\n",
       "      <th>LocationID</th>\n",
       "      <th>CategoryID</th>\n",
       "      <th>Params</th>\n",
       "      <th>Price</th>\n",
       "      <th>Title</th>\n",
       "      <th>IsContext</th>\n",
       "      <th>Level</th>\n",
       "      <th>ParentCategoryID</th>\n",
       "      <th>SubcategoryID</th>\n",
       "      <th>Level_y</th>\n",
       "      <th>RegionID</th>\n",
       "      <th>CityID</th>\n",
       "    </tr>\n",
       "  </thead>\n",
       "  <tbody>\n",
       "    <tr>\n",
       "      <th>0</th>\n",
       "      <td>1</td>\n",
       "      <td>1</td>\n",
       "      <td>10915336</td>\n",
       "      <td>1</td>\n",
       "      <td>3</td>\n",
       "      <td>0.004999</td>\n",
       "      <td>NaN</td>\n",
       "      <td>5.0</td>\n",
       "      <td>{165:'Единоборства'}</td>\n",
       "      <td>449.0</td>\n",
       "      <td>Эспандер боксера Бокс 1 тип рюкзачок</td>\n",
       "      <td>1</td>\n",
       "      <td>3.0</td>\n",
       "      <td>2.0</td>\n",
       "      <td>35.0</td>\n",
       "      <td>NaN</td>\n",
       "      <td>NaN</td>\n",
       "      <td>NaN</td>\n",
       "    </tr>\n",
       "    <tr>\n",
       "      <th>1</th>\n",
       "      <td>2</td>\n",
       "      <td>1</td>\n",
       "      <td>12258424</td>\n",
       "      <td>6</td>\n",
       "      <td>1</td>\n",
       "      <td>NaN</td>\n",
       "      <td>1729.0</td>\n",
       "      <td>5.0</td>\n",
       "      <td>{165:'Игры с мячом'}</td>\n",
       "      <td>5000.0</td>\n",
       "      <td>Бутсы nike mercurial</td>\n",
       "      <td>0</td>\n",
       "      <td>3.0</td>\n",
       "      <td>2.0</td>\n",
       "      <td>35.0</td>\n",
       "      <td>3.0</td>\n",
       "      <td>27.0</td>\n",
       "      <td>2554.0</td>\n",
       "    </tr>\n",
       "    <tr>\n",
       "      <th>2</th>\n",
       "      <td>3</td>\n",
       "      <td>1</td>\n",
       "      <td>15952399</td>\n",
       "      <td>2</td>\n",
       "      <td>1</td>\n",
       "      <td>NaN</td>\n",
       "      <td>1729.0</td>\n",
       "      <td>5.0</td>\n",
       "      <td>{165:'Зимние виды спорта'}</td>\n",
       "      <td>2300.0</td>\n",
       "      <td>Хоккейная форма Шлем хоккейный</td>\n",
       "      <td>0</td>\n",
       "      <td>3.0</td>\n",
       "      <td>2.0</td>\n",
       "      <td>35.0</td>\n",
       "      <td>3.0</td>\n",
       "      <td>27.0</td>\n",
       "      <td>2554.0</td>\n",
       "    </tr>\n",
       "    <tr>\n",
       "      <th>3</th>\n",
       "      <td>4</td>\n",
       "      <td>1</td>\n",
       "      <td>17092357</td>\n",
       "      <td>8</td>\n",
       "      <td>1</td>\n",
       "      <td>NaN</td>\n",
       "      <td>1729.0</td>\n",
       "      <td>5.0</td>\n",
       "      <td>{165:'Другое'}</td>\n",
       "      <td>3000.0</td>\n",
       "      <td>Продам качели детские</td>\n",
       "      <td>0</td>\n",
       "      <td>3.0</td>\n",
       "      <td>2.0</td>\n",
       "      <td>35.0</td>\n",
       "      <td>3.0</td>\n",
       "      <td>27.0</td>\n",
       "      <td>2554.0</td>\n",
       "    </tr>\n",
       "    <tr>\n",
       "      <th>4</th>\n",
       "      <td>5</td>\n",
       "      <td>1</td>\n",
       "      <td>31173651</td>\n",
       "      <td>7</td>\n",
       "      <td>3</td>\n",
       "      <td>0.045094</td>\n",
       "      <td>NaN</td>\n",
       "      <td>5.0</td>\n",
       "      <td>{165:'Туризм'}</td>\n",
       "      <td>1540.0</td>\n",
       "      <td>Спальный мешок</td>\n",
       "      <td>1</td>\n",
       "      <td>3.0</td>\n",
       "      <td>2.0</td>\n",
       "      <td>35.0</td>\n",
       "      <td>NaN</td>\n",
       "      <td>NaN</td>\n",
       "      <td>NaN</td>\n",
       "    </tr>\n",
       "  </tbody>\n",
       "</table>\n",
       "</div>"
      ],
      "text/plain": [
       "   ID  SearchID      AdID  Position  ObjectType   HistCTR  LocationID  \\\n",
       "0   1         1  10915336         1           3  0.004999         NaN   \n",
       "1   2         1  12258424         6           1       NaN      1729.0   \n",
       "2   3         1  15952399         2           1       NaN      1729.0   \n",
       "3   4         1  17092357         8           1       NaN      1729.0   \n",
       "4   5         1  31173651         7           3  0.045094         NaN   \n",
       "\n",
       "   CategoryID                      Params   Price  \\\n",
       "0         5.0        {165:'Единоборства'}   449.0   \n",
       "1         5.0        {165:'Игры с мячом'}  5000.0   \n",
       "2         5.0  {165:'Зимние виды спорта'}  2300.0   \n",
       "3         5.0              {165:'Другое'}  3000.0   \n",
       "4         5.0              {165:'Туризм'}  1540.0   \n",
       "\n",
       "                                  Title  IsContext  Level  ParentCategoryID  \\\n",
       "0  Эспандер боксера Бокс 1 тип рюкзачок          1    3.0               2.0   \n",
       "1                  Бутсы nike mercurial          0    3.0               2.0   \n",
       "2        Хоккейная форма Шлем хоккейный          0    3.0               2.0   \n",
       "3                 Продам качели детские          0    3.0               2.0   \n",
       "4                        Спальный мешок          1    3.0               2.0   \n",
       "\n",
       "   SubcategoryID  Level_y  RegionID  CityID  \n",
       "0           35.0      NaN       NaN     NaN  \n",
       "1           35.0      3.0      27.0  2554.0  \n",
       "2           35.0      3.0      27.0  2554.0  \n",
       "3           35.0      3.0      27.0  2554.0  \n",
       "4           35.0      NaN       NaN     NaN  "
      ]
     },
     "execution_count": 4,
     "metadata": {},
     "output_type": "execute_result"
    }
   ],
   "source": [
    "test_data = pd.read_parquet(\"./data/merged_data_test.parquet\")\n",
    "test_data.head()"
   ]
  },
  {
   "cell_type": "code",
   "execution_count": 5,
   "id": "6aded7c1",
   "metadata": {},
   "outputs": [
    {
     "data": {
      "text/html": [
       "<div>\n",
       "<style scoped>\n",
       "    .dataframe tbody tr th:only-of-type {\n",
       "        vertical-align: middle;\n",
       "    }\n",
       "\n",
       "    .dataframe tbody tr th {\n",
       "        vertical-align: top;\n",
       "    }\n",
       "\n",
       "    .dataframe thead th {\n",
       "        text-align: right;\n",
       "    }\n",
       "</style>\n",
       "<table border=\"1\" class=\"dataframe\">\n",
       "  <thead>\n",
       "    <tr style=\"text-align: right;\">\n",
       "      <th></th>\n",
       "      <th>histctr</th>\n",
       "      <th>subcategoryid</th>\n",
       "      <th>price</th>\n",
       "      <th>position</th>\n",
       "      <th>categoryid</th>\n",
       "      <th>parentcategoryid</th>\n",
       "    </tr>\n",
       "  </thead>\n",
       "  <tbody>\n",
       "    <tr>\n",
       "      <th>0</th>\n",
       "      <td>0.0234</td>\n",
       "      <td>5</td>\n",
       "      <td>13413.5</td>\n",
       "      <td>7</td>\n",
       "      <td>1</td>\n",
       "      <td>1</td>\n",
       "    </tr>\n",
       "  </tbody>\n",
       "</table>\n",
       "</div>"
      ],
      "text/plain": [
       "   histctr  subcategoryid    price  position  categoryid  parentcategoryid\n",
       "0   0.0234              5  13413.5         7           1                 1"
      ]
     },
     "execution_count": 5,
     "metadata": {},
     "output_type": "execute_result"
    }
   ],
   "source": [
    "pd.DataFrame([[0.0234, 5, 13413.5, 7, 1, 1]], columns = ['histctr', 'subcategoryid',\n",
    "                                                                   'price', 'position', 'categoryid',\n",
    "                                                                   'parentcategoryid'])"
   ]
  },
  {
   "cell_type": "code",
   "execution_count": 6,
   "id": "078e4bb8",
   "metadata": {},
   "outputs": [],
   "source": [
    "histctr : float\n",
    "subcategoryid : int()\n",
    "price: float()\n",
    "position: int()\n",
    "categoryid: int()\n",
    "parentcategoryid: int()"
   ]
  },
  {
   "cell_type": "code",
   "execution_count": 11,
   "id": "e4ddc6f2",
   "metadata": {},
   "outputs": [],
   "source": [
    "test_data_obj = Inference(pd.DataFrame([[0.0234, 5, 13413.5, 7, 1, 1]], columns = ['histctr', 'subcategoryid',\n",
    "                                                                   'price', 'position', 'categoryid',\n",
    "                                                                   'parentcategoryid']))"
   ]
  },
  {
   "cell_type": "code",
   "execution_count": 12,
   "id": "9f589e0c",
   "metadata": {},
   "outputs": [],
   "source": [
    "test_data_obj.preprocessing()"
   ]
  },
  {
   "cell_type": "code",
   "execution_count": 13,
   "id": "d30b0aa6",
   "metadata": {
    "scrolled": true
   },
   "outputs": [],
   "source": [
    "test_data_obj.prediction()"
   ]
  },
  {
   "cell_type": "code",
   "execution_count": 14,
   "id": "cafef03a",
   "metadata": {},
   "outputs": [
    {
     "data": {
      "text/html": [
       "<div>\n",
       "<style scoped>\n",
       "    .dataframe tbody tr th:only-of-type {\n",
       "        vertical-align: middle;\n",
       "    }\n",
       "\n",
       "    .dataframe tbody tr th {\n",
       "        vertical-align: top;\n",
       "    }\n",
       "\n",
       "    .dataframe thead th {\n",
       "        text-align: right;\n",
       "    }\n",
       "</style>\n",
       "<table border=\"1\" class=\"dataframe\">\n",
       "  <thead>\n",
       "    <tr style=\"text-align: right;\">\n",
       "      <th></th>\n",
       "      <th>histctr</th>\n",
       "      <th>subcategoryid</th>\n",
       "      <th>price</th>\n",
       "      <th>position</th>\n",
       "      <th>categoryid</th>\n",
       "      <th>parentcategoryid</th>\n",
       "      <th>prediction</th>\n",
       "    </tr>\n",
       "  </thead>\n",
       "  <tbody>\n",
       "    <tr>\n",
       "      <th>0</th>\n",
       "      <td>0.0234</td>\n",
       "      <td>5</td>\n",
       "      <td>13413.5</td>\n",
       "      <td>7</td>\n",
       "      <td>1</td>\n",
       "      <td>1</td>\n",
       "      <td>0.002361</td>\n",
       "    </tr>\n",
       "  </tbody>\n",
       "</table>\n",
       "</div>"
      ],
      "text/plain": [
       "   histctr  subcategoryid    price  position  categoryid  parentcategoryid  \\\n",
       "0   0.0234              5  13413.5         7           1                 1   \n",
       "\n",
       "   prediction  \n",
       "0    0.002361  "
      ]
     },
     "execution_count": 14,
     "metadata": {},
     "output_type": "execute_result"
    }
   ],
   "source": [
    "test_data_obj.data"
   ]
  },
  {
   "cell_type": "code",
   "execution_count": null,
   "id": "cf7902c1",
   "metadata": {},
   "outputs": [],
   "source": []
  },
  {
   "cell_type": "code",
   "execution_count": 5,
   "id": "ea1cc159",
   "metadata": {},
   "outputs": [],
   "source": [
    "test_data_obj = Inference(test_data)"
   ]
  },
  {
   "cell_type": "code",
   "execution_count": 6,
   "id": "c0771e4e",
   "metadata": {},
   "outputs": [],
   "source": [
    "test_data_obj.preprocessing()"
   ]
  },
  {
   "cell_type": "code",
   "execution_count": 7,
   "id": "b7170df0",
   "metadata": {
    "scrolled": true
   },
   "outputs": [],
   "source": [
    "test_data_obj.prediction()"
   ]
  },
  {
   "cell_type": "code",
   "execution_count": null,
   "id": "87317086",
   "metadata": {},
   "outputs": [],
   "source": []
  },
  {
   "cell_type": "code",
   "execution_count": null,
   "id": "10f06d33",
   "metadata": {},
   "outputs": [],
   "source": []
  },
  {
   "cell_type": "code",
   "execution_count": null,
   "id": "457460fb",
   "metadata": {},
   "outputs": [],
   "source": []
  }
 ],
 "metadata": {
  "kernelspec": {
   "display_name": "Python 3 (ipykernel)",
   "language": "python",
   "name": "python3"
  },
  "language_info": {
   "codemirror_mode": {
    "name": "ipython",
    "version": 3
   },
   "file_extension": ".py",
   "mimetype": "text/x-python",
   "name": "python",
   "nbconvert_exporter": "python",
   "pygments_lexer": "ipython3",
   "version": "3.11.5"
  }
 },
 "nbformat": 4,
 "nbformat_minor": 5
}
